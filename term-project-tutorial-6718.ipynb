{
 "cells": [
  {
   "cell_type": "code",
   "execution_count": 1,
   "id": "654f4630",
   "metadata": {
    "_cell_guid": "b1076dfc-b9ad-4769-8c92-a6c4dae69d19",
    "_uuid": "8f2839f25d086af736a60e9eeb907d3b93b6e0e5",
    "execution": {
     "iopub.execute_input": "2022-10-08T02:05:43.302650Z",
     "iopub.status.busy": "2022-10-08T02:05:43.301968Z",
     "iopub.status.idle": "2022-10-08T02:05:43.315104Z",
     "shell.execute_reply": "2022-10-08T02:05:43.313900Z"
    },
    "papermill": {
     "duration": 0.022159,
     "end_time": "2022-10-08T02:05:43.318013",
     "exception": false,
     "start_time": "2022-10-08T02:05:43.295854",
     "status": "completed"
    },
    "tags": []
   },
   "outputs": [
    {
     "name": "stdout",
     "output_type": "stream",
     "text": [
      "/kaggle/input/titanic/train.csv\n",
      "/kaggle/input/titanic/test.csv\n",
      "/kaggle/input/titanic/gender_submission.csv\n"
     ]
    }
   ],
   "source": [
    "# This Python 3 environment comes with many helpful analytics libraries installed\n",
    "# It is defined by the kaggle/python Docker image: https://github.com/kaggle/docker-python\n",
    "# For example, here's several helpful packages to load\n",
    "\n",
    "import numpy as np # linear algebra\n",
    "import pandas as pd # data processing, CSV file I/O (e.g. pd.read_csv)\n",
    "\n",
    "# Input data files are available in the read-only \"../input/\" directory\n",
    "# For example, running this (by clicking run or pressing Shift+Enter) will list all files under the input directory\n",
    "\n",
    "import os\n",
    "for dirname, _, filenames in os.walk('/kaggle/input'):\n",
    "    for filename in filenames:\n",
    "        print(os.path.join(dirname, filename))\n",
    "\n",
    "# You can write up to 20GB to the current directory (/kaggle/working/) that gets preserved as output when you create a version using \"Save & Run All\" \n",
    "# You can also write temporary files to /kaggle/temp/, but they won't be saved outside of the current session"
   ]
  },
  {
   "cell_type": "code",
   "execution_count": null,
   "id": "69807da2",
   "metadata": {
    "jupyter": {
     "source_hidden": true
    },
    "papermill": {
     "duration": 0.003313,
     "end_time": "2022-10-08T02:05:43.325710",
     "exception": false,
     "start_time": "2022-10-08T02:05:43.322397",
     "status": "completed"
    },
    "tags": []
   },
   "outputs": [],
   "source": []
  },
  {
   "cell_type": "code",
   "execution_count": 2,
   "id": "7f771dba",
   "metadata": {
    "execution": {
     "iopub.execute_input": "2022-10-08T02:05:43.334835Z",
     "iopub.status.busy": "2022-10-08T02:05:43.333644Z",
     "iopub.status.idle": "2022-10-08T02:05:43.381630Z",
     "shell.execute_reply": "2022-10-08T02:05:43.380699Z"
    },
    "papermill": {
     "duration": 0.054978,
     "end_time": "2022-10-08T02:05:43.384083",
     "exception": false,
     "start_time": "2022-10-08T02:05:43.329105",
     "status": "completed"
    },
    "tags": []
   },
   "outputs": [
    {
     "data": {
      "text/html": [
       "<div>\n",
       "<style scoped>\n",
       "    .dataframe tbody tr th:only-of-type {\n",
       "        vertical-align: middle;\n",
       "    }\n",
       "\n",
       "    .dataframe tbody tr th {\n",
       "        vertical-align: top;\n",
       "    }\n",
       "\n",
       "    .dataframe thead th {\n",
       "        text-align: right;\n",
       "    }\n",
       "</style>\n",
       "<table border=\"1\" class=\"dataframe\">\n",
       "  <thead>\n",
       "    <tr style=\"text-align: right;\">\n",
       "      <th></th>\n",
       "      <th>PassengerId</th>\n",
       "      <th>Survived</th>\n",
       "      <th>Pclass</th>\n",
       "      <th>Name</th>\n",
       "      <th>Sex</th>\n",
       "      <th>Age</th>\n",
       "      <th>SibSp</th>\n",
       "      <th>Parch</th>\n",
       "      <th>Ticket</th>\n",
       "      <th>Fare</th>\n",
       "      <th>Cabin</th>\n",
       "      <th>Embarked</th>\n",
       "    </tr>\n",
       "  </thead>\n",
       "  <tbody>\n",
       "    <tr>\n",
       "      <th>0</th>\n",
       "      <td>1</td>\n",
       "      <td>0</td>\n",
       "      <td>3</td>\n",
       "      <td>Braund, Mr. Owen Harris</td>\n",
       "      <td>male</td>\n",
       "      <td>22.0</td>\n",
       "      <td>1</td>\n",
       "      <td>0</td>\n",
       "      <td>A/5 21171</td>\n",
       "      <td>7.2500</td>\n",
       "      <td>NaN</td>\n",
       "      <td>S</td>\n",
       "    </tr>\n",
       "    <tr>\n",
       "      <th>1</th>\n",
       "      <td>2</td>\n",
       "      <td>1</td>\n",
       "      <td>1</td>\n",
       "      <td>Cumings, Mrs. John Bradley (Florence Briggs Th...</td>\n",
       "      <td>female</td>\n",
       "      <td>38.0</td>\n",
       "      <td>1</td>\n",
       "      <td>0</td>\n",
       "      <td>PC 17599</td>\n",
       "      <td>71.2833</td>\n",
       "      <td>C85</td>\n",
       "      <td>C</td>\n",
       "    </tr>\n",
       "    <tr>\n",
       "      <th>2</th>\n",
       "      <td>3</td>\n",
       "      <td>1</td>\n",
       "      <td>3</td>\n",
       "      <td>Heikkinen, Miss. Laina</td>\n",
       "      <td>female</td>\n",
       "      <td>26.0</td>\n",
       "      <td>0</td>\n",
       "      <td>0</td>\n",
       "      <td>STON/O2. 3101282</td>\n",
       "      <td>7.9250</td>\n",
       "      <td>NaN</td>\n",
       "      <td>S</td>\n",
       "    </tr>\n",
       "    <tr>\n",
       "      <th>3</th>\n",
       "      <td>4</td>\n",
       "      <td>1</td>\n",
       "      <td>1</td>\n",
       "      <td>Futrelle, Mrs. Jacques Heath (Lily May Peel)</td>\n",
       "      <td>female</td>\n",
       "      <td>35.0</td>\n",
       "      <td>1</td>\n",
       "      <td>0</td>\n",
       "      <td>113803</td>\n",
       "      <td>53.1000</td>\n",
       "      <td>C123</td>\n",
       "      <td>S</td>\n",
       "    </tr>\n",
       "    <tr>\n",
       "      <th>4</th>\n",
       "      <td>5</td>\n",
       "      <td>0</td>\n",
       "      <td>3</td>\n",
       "      <td>Allen, Mr. William Henry</td>\n",
       "      <td>male</td>\n",
       "      <td>35.0</td>\n",
       "      <td>0</td>\n",
       "      <td>0</td>\n",
       "      <td>373450</td>\n",
       "      <td>8.0500</td>\n",
       "      <td>NaN</td>\n",
       "      <td>S</td>\n",
       "    </tr>\n",
       "  </tbody>\n",
       "</table>\n",
       "</div>"
      ],
      "text/plain": [
       "   PassengerId  Survived  Pclass  \\\n",
       "0            1         0       3   \n",
       "1            2         1       1   \n",
       "2            3         1       3   \n",
       "3            4         1       1   \n",
       "4            5         0       3   \n",
       "\n",
       "                                                Name     Sex   Age  SibSp  \\\n",
       "0                            Braund, Mr. Owen Harris    male  22.0      1   \n",
       "1  Cumings, Mrs. John Bradley (Florence Briggs Th...  female  38.0      1   \n",
       "2                             Heikkinen, Miss. Laina  female  26.0      0   \n",
       "3       Futrelle, Mrs. Jacques Heath (Lily May Peel)  female  35.0      1   \n",
       "4                           Allen, Mr. William Henry    male  35.0      0   \n",
       "\n",
       "   Parch            Ticket     Fare Cabin Embarked  \n",
       "0      0         A/5 21171   7.2500   NaN        S  \n",
       "1      0          PC 17599  71.2833   C85        C  \n",
       "2      0  STON/O2. 3101282   7.9250   NaN        S  \n",
       "3      0            113803  53.1000  C123        S  \n",
       "4      0            373450   8.0500   NaN        S  "
      ]
     },
     "execution_count": 2,
     "metadata": {},
     "output_type": "execute_result"
    }
   ],
   "source": [
    "train_data = pd.read_csv(\"/kaggle/input/titanic/train.csv\")\n",
    "train_data.head()"
   ]
  },
  {
   "cell_type": "code",
   "execution_count": 3,
   "id": "4d0638c4",
   "metadata": {
    "execution": {
     "iopub.execute_input": "2022-10-08T02:05:43.392990Z",
     "iopub.status.busy": "2022-10-08T02:05:43.392615Z",
     "iopub.status.idle": "2022-10-08T02:05:43.415379Z",
     "shell.execute_reply": "2022-10-08T02:05:43.414140Z"
    },
    "papermill": {
     "duration": 0.02981,
     "end_time": "2022-10-08T02:05:43.417876",
     "exception": false,
     "start_time": "2022-10-08T02:05:43.388066",
     "status": "completed"
    },
    "tags": []
   },
   "outputs": [
    {
     "data": {
      "text/html": [
       "<div>\n",
       "<style scoped>\n",
       "    .dataframe tbody tr th:only-of-type {\n",
       "        vertical-align: middle;\n",
       "    }\n",
       "\n",
       "    .dataframe tbody tr th {\n",
       "        vertical-align: top;\n",
       "    }\n",
       "\n",
       "    .dataframe thead th {\n",
       "        text-align: right;\n",
       "    }\n",
       "</style>\n",
       "<table border=\"1\" class=\"dataframe\">\n",
       "  <thead>\n",
       "    <tr style=\"text-align: right;\">\n",
       "      <th></th>\n",
       "      <th>PassengerId</th>\n",
       "      <th>Pclass</th>\n",
       "      <th>Name</th>\n",
       "      <th>Sex</th>\n",
       "      <th>Age</th>\n",
       "      <th>SibSp</th>\n",
       "      <th>Parch</th>\n",
       "      <th>Ticket</th>\n",
       "      <th>Fare</th>\n",
       "      <th>Cabin</th>\n",
       "      <th>Embarked</th>\n",
       "    </tr>\n",
       "  </thead>\n",
       "  <tbody>\n",
       "    <tr>\n",
       "      <th>0</th>\n",
       "      <td>892</td>\n",
       "      <td>3</td>\n",
       "      <td>Kelly, Mr. James</td>\n",
       "      <td>male</td>\n",
       "      <td>34.5</td>\n",
       "      <td>0</td>\n",
       "      <td>0</td>\n",
       "      <td>330911</td>\n",
       "      <td>7.8292</td>\n",
       "      <td>NaN</td>\n",
       "      <td>Q</td>\n",
       "    </tr>\n",
       "    <tr>\n",
       "      <th>1</th>\n",
       "      <td>893</td>\n",
       "      <td>3</td>\n",
       "      <td>Wilkes, Mrs. James (Ellen Needs)</td>\n",
       "      <td>female</td>\n",
       "      <td>47.0</td>\n",
       "      <td>1</td>\n",
       "      <td>0</td>\n",
       "      <td>363272</td>\n",
       "      <td>7.0000</td>\n",
       "      <td>NaN</td>\n",
       "      <td>S</td>\n",
       "    </tr>\n",
       "    <tr>\n",
       "      <th>2</th>\n",
       "      <td>894</td>\n",
       "      <td>2</td>\n",
       "      <td>Myles, Mr. Thomas Francis</td>\n",
       "      <td>male</td>\n",
       "      <td>62.0</td>\n",
       "      <td>0</td>\n",
       "      <td>0</td>\n",
       "      <td>240276</td>\n",
       "      <td>9.6875</td>\n",
       "      <td>NaN</td>\n",
       "      <td>Q</td>\n",
       "    </tr>\n",
       "    <tr>\n",
       "      <th>3</th>\n",
       "      <td>895</td>\n",
       "      <td>3</td>\n",
       "      <td>Wirz, Mr. Albert</td>\n",
       "      <td>male</td>\n",
       "      <td>27.0</td>\n",
       "      <td>0</td>\n",
       "      <td>0</td>\n",
       "      <td>315154</td>\n",
       "      <td>8.6625</td>\n",
       "      <td>NaN</td>\n",
       "      <td>S</td>\n",
       "    </tr>\n",
       "    <tr>\n",
       "      <th>4</th>\n",
       "      <td>896</td>\n",
       "      <td>3</td>\n",
       "      <td>Hirvonen, Mrs. Alexander (Helga E Lindqvist)</td>\n",
       "      <td>female</td>\n",
       "      <td>22.0</td>\n",
       "      <td>1</td>\n",
       "      <td>1</td>\n",
       "      <td>3101298</td>\n",
       "      <td>12.2875</td>\n",
       "      <td>NaN</td>\n",
       "      <td>S</td>\n",
       "    </tr>\n",
       "  </tbody>\n",
       "</table>\n",
       "</div>"
      ],
      "text/plain": [
       "   PassengerId  Pclass                                          Name     Sex  \\\n",
       "0          892       3                              Kelly, Mr. James    male   \n",
       "1          893       3              Wilkes, Mrs. James (Ellen Needs)  female   \n",
       "2          894       2                     Myles, Mr. Thomas Francis    male   \n",
       "3          895       3                              Wirz, Mr. Albert    male   \n",
       "4          896       3  Hirvonen, Mrs. Alexander (Helga E Lindqvist)  female   \n",
       "\n",
       "    Age  SibSp  Parch   Ticket     Fare Cabin Embarked  \n",
       "0  34.5      0      0   330911   7.8292   NaN        Q  \n",
       "1  47.0      1      0   363272   7.0000   NaN        S  \n",
       "2  62.0      0      0   240276   9.6875   NaN        Q  \n",
       "3  27.0      0      0   315154   8.6625   NaN        S  \n",
       "4  22.0      1      1  3101298  12.2875   NaN        S  "
      ]
     },
     "execution_count": 3,
     "metadata": {},
     "output_type": "execute_result"
    }
   ],
   "source": [
    "test_data = pd.read_csv(\"/kaggle/input/titanic/test.csv\")\n",
    "test_data.head()"
   ]
  },
  {
   "cell_type": "code",
   "execution_count": 4,
   "id": "3904ed8f",
   "metadata": {
    "execution": {
     "iopub.execute_input": "2022-10-08T02:05:43.428000Z",
     "iopub.status.busy": "2022-10-08T02:05:43.427078Z",
     "iopub.status.idle": "2022-10-08T02:05:43.439156Z",
     "shell.execute_reply": "2022-10-08T02:05:43.438075Z"
    },
    "papermill": {
     "duration": 0.019564,
     "end_time": "2022-10-08T02:05:43.441623",
     "exception": false,
     "start_time": "2022-10-08T02:05:43.422059",
     "status": "completed"
    },
    "tags": []
   },
   "outputs": [
    {
     "name": "stdout",
     "output_type": "stream",
     "text": [
      "% of women who survived: 0.7420382165605095\n"
     ]
    }
   ],
   "source": [
    "women = train_data.loc[train_data.Sex == 'female'][\"Survived\"]\n",
    "rate_women = sum(women)/len(women)\n",
    "\n",
    "print(\"% of women who survived:\", rate_women)"
   ]
  },
  {
   "cell_type": "code",
   "execution_count": 5,
   "id": "5488cedb",
   "metadata": {
    "execution": {
     "iopub.execute_input": "2022-10-08T02:05:43.453445Z",
     "iopub.status.busy": "2022-10-08T02:05:43.452962Z",
     "iopub.status.idle": "2022-10-08T02:05:43.466356Z",
     "shell.execute_reply": "2022-10-08T02:05:43.464875Z"
    },
    "papermill": {
     "duration": 0.021772,
     "end_time": "2022-10-08T02:05:43.469486",
     "exception": false,
     "start_time": "2022-10-08T02:05:43.447714",
     "status": "completed"
    },
    "tags": []
   },
   "outputs": [
    {
     "name": "stdout",
     "output_type": "stream",
     "text": [
      "% of men who survived: 0.18890814558058924\n"
     ]
    }
   ],
   "source": [
    "men = train_data.loc[train_data.Sex == 'male'][\"Survived\"]\n",
    "rate_men = sum(men)/len(men)\n",
    "\n",
    "print(\"% of men who survived:\", rate_men)"
   ]
  },
  {
   "cell_type": "code",
   "execution_count": 6,
   "id": "49671f85",
   "metadata": {
    "execution": {
     "iopub.execute_input": "2022-10-08T02:05:43.480742Z",
     "iopub.status.busy": "2022-10-08T02:05:43.479841Z",
     "iopub.status.idle": "2022-10-08T02:05:44.951103Z",
     "shell.execute_reply": "2022-10-08T02:05:44.949665Z"
    },
    "papermill": {
     "duration": 1.479843,
     "end_time": "2022-10-08T02:05:44.953816",
     "exception": false,
     "start_time": "2022-10-08T02:05:43.473973",
     "status": "completed"
    },
    "tags": []
   },
   "outputs": [
    {
     "name": "stdout",
     "output_type": "stream",
     "text": [
      "Your submission was successfully saved!\n"
     ]
    }
   ],
   "source": [
    "from sklearn.ensemble import RandomForestClassifier\n",
    "\n",
    "y = train_data[\"Survived\"]\n",
    "\n",
    "features = [\"Pclass\", \"Sex\", \"SibSp\", \"Parch\"]\n",
    "X = pd.get_dummies(train_data[features])\n",
    "X_test = pd.get_dummies(test_data[features])\n",
    "\n",
    "model = RandomForestClassifier(n_estimators=100, max_depth=5, random_state=1)\n",
    "model.fit(X, y)\n",
    "predictions = model.predict(X_test)\n",
    "\n",
    "output = pd.DataFrame({'PassengerId': test_data.PassengerId, 'Survived': predictions})\n",
    "output.to_csv('submission.csv', index=False)\n",
    "print(\"Your submission was successfully saved!\")"
   ]
  },
  {
   "cell_type": "code",
   "execution_count": 7,
   "id": "03c384d0",
   "metadata": {
    "execution": {
     "iopub.execute_input": "2022-10-08T02:05:44.963691Z",
     "iopub.status.busy": "2022-10-08T02:05:44.963330Z",
     "iopub.status.idle": "2022-10-08T02:05:44.970896Z",
     "shell.execute_reply": "2022-10-08T02:05:44.969819Z"
    },
    "papermill": {
     "duration": 0.014986,
     "end_time": "2022-10-08T02:05:44.973107",
     "exception": false,
     "start_time": "2022-10-08T02:05:44.958121",
     "status": "completed"
    },
    "tags": []
   },
   "outputs": [],
   "source": [
    "X_age = train_data[\"Age\"]\n",
    "#print(X_age)\n",
    "mode_age = X_age.median()\n",
    "#print(mode_age[0])\n",
    "X_age = X_age.fillna(mode_age)\n"
   ]
  },
  {
   "cell_type": "code",
   "execution_count": 8,
   "id": "b443d46d",
   "metadata": {
    "execution": {
     "iopub.execute_input": "2022-10-08T02:05:44.983058Z",
     "iopub.status.busy": "2022-10-08T02:05:44.982681Z",
     "iopub.status.idle": "2022-10-08T02:05:44.989729Z",
     "shell.execute_reply": "2022-10-08T02:05:44.988655Z"
    },
    "papermill": {
     "duration": 0.014489,
     "end_time": "2022-10-08T02:05:44.991986",
     "exception": false,
     "start_time": "2022-10-08T02:05:44.977497",
     "status": "completed"
    },
    "tags": []
   },
   "outputs": [],
   "source": [
    "Xtest_age = test_data[\"Age\"]\n",
    "#print(Xtest_age)\n",
    "mode_age = Xtest_age.median()\n",
    "#print(mode_age[0])\n",
    "Xtest_age = Xtest_age.fillna(mode_age)\n",
    "Xtest_fare = test_data[\"Fare\"]\n",
    "Xtest_fare = Xtest_fare.fillna(7.9250)"
   ]
  },
  {
   "cell_type": "code",
   "execution_count": 9,
   "id": "b5d73021",
   "metadata": {
    "execution": {
     "iopub.execute_input": "2022-10-08T02:05:45.002080Z",
     "iopub.status.busy": "2022-10-08T02:05:45.001610Z",
     "iopub.status.idle": "2022-10-08T02:05:45.031575Z",
     "shell.execute_reply": "2022-10-08T02:05:45.030065Z"
    },
    "papermill": {
     "duration": 0.037916,
     "end_time": "2022-10-08T02:05:45.034181",
     "exception": false,
     "start_time": "2022-10-08T02:05:44.996265",
     "status": "completed"
    },
    "tags": []
   },
   "outputs": [
    {
     "name": "stdout",
     "output_type": "stream",
     "text": [
      "     Pclass  SibSp  Parch     Fare  Sex_female  Sex_male\n",
      "0         3      1      0   7.2500           0         1\n",
      "1         1      1      0  71.2833           1         0\n",
      "2         3      0      0   7.9250           1         0\n",
      "3         1      1      0  53.1000           1         0\n",
      "4         3      0      0   8.0500           0         1\n",
      "..      ...    ...    ...      ...         ...       ...\n",
      "886       2      0      0  13.0000           0         1\n",
      "887       1      0      0  30.0000           1         0\n",
      "888       3      1      2  23.4500           1         0\n",
      "889       1      0      0  30.0000           0         1\n",
      "890       3      0      0   7.7500           0         1\n",
      "\n",
      "[891 rows x 6 columns]\n",
      "     Pclass  SibSp  Parch     Fare  Sex_female  Sex_male   Age\n",
      "0         3      1      0   7.2500           0         1  22.0\n",
      "1         1      1      0  71.2833           1         0  38.0\n",
      "2         3      0      0   7.9250           1         0  26.0\n",
      "3         1      1      0  53.1000           1         0  35.0\n",
      "4         3      0      0   8.0500           0         1  35.0\n",
      "..      ...    ...    ...      ...         ...       ...   ...\n",
      "886       2      0      0  13.0000           0         1  27.0\n",
      "887       1      0      0  30.0000           1         0  19.0\n",
      "888       3      1      2  23.4500           1         0  28.0\n",
      "889       1      0      0  30.0000           0         1  26.0\n",
      "890       3      0      0   7.7500           0         1  32.0\n",
      "\n",
      "[891 rows x 7 columns]\n",
      "     Pclass  SibSp  Parch      Fare  Sex_female  Sex_male   Age\n",
      "0         3      0      0    7.8292           0         1  34.5\n",
      "1         3      1      0    7.0000           1         0  47.0\n",
      "2         2      0      0    9.6875           0         1  62.0\n",
      "3         3      0      0    8.6625           0         1  27.0\n",
      "4         3      1      1   12.2875           1         0  22.0\n",
      "..      ...    ...    ...       ...         ...       ...   ...\n",
      "413       3      0      0    8.0500           0         1  27.0\n",
      "414       1      0      0  108.9000           1         0  39.0\n",
      "415       3      0      0    7.2500           0         1  38.5\n",
      "416       3      0      0    8.0500           0         1  27.0\n",
      "417       3      1      1   22.3583           0         1  27.0\n",
      "\n",
      "[418 rows x 7 columns]\n"
     ]
    }
   ],
   "source": [
    "features = [\"Pclass\", \"Sex\", \"SibSp\", \"Parch\",\"Fare\"]\n",
    "X = pd.get_dummies(train_data[features])\n",
    "X_test = pd.get_dummies(test_data[features])\n",
    "print(X)\n",
    "X['Age'] = X_age\n",
    "X_test['Age'] = Xtest_age\n",
    "X_test['Fare'] = Xtest_fare\n",
    "print(X)\n",
    "print(X_test)"
   ]
  },
  {
   "cell_type": "code",
   "execution_count": 10,
   "id": "d57b5690",
   "metadata": {
    "execution": {
     "iopub.execute_input": "2022-10-08T02:05:45.044796Z",
     "iopub.status.busy": "2022-10-08T02:05:45.044385Z",
     "iopub.status.idle": "2022-10-08T02:05:45.279596Z",
     "shell.execute_reply": "2022-10-08T02:05:45.277978Z"
    },
    "papermill": {
     "duration": 0.243815,
     "end_time": "2022-10-08T02:05:45.282486",
     "exception": false,
     "start_time": "2022-10-08T02:05:45.038671",
     "status": "completed"
    },
    "tags": []
   },
   "outputs": [
    {
     "name": "stdout",
     "output_type": "stream",
     "text": [
      "     Pclass  SibSp  Parch     Fare  Sex_female  Sex_male\n",
      "0         3      1      0   7.2500           0         1\n",
      "1         1      1      0  71.2833           1         0\n",
      "2         3      0      0   7.9250           1         0\n",
      "3         1      1      0  53.1000           1         0\n",
      "4         3      0      0   8.0500           0         1\n",
      "..      ...    ...    ...      ...         ...       ...\n",
      "886       2      0      0  13.0000           0         1\n",
      "887       1      0      0  30.0000           1         0\n",
      "888       3      1      2  23.4500           1         0\n",
      "889       1      0      0  30.0000           0         1\n",
      "890       3      0      0   7.7500           0         1\n",
      "\n",
      "[891 rows x 6 columns]\n",
      "     Pclass  SibSp  Parch     Fare  Sex_female  Sex_male   Age\n",
      "0         3      1      0   7.2500           0         1  22.0\n",
      "1         1      1      0  71.2833           1         0  38.0\n",
      "2         3      0      0   7.9250           1         0  26.0\n",
      "3         1      1      0  53.1000           1         0  35.0\n",
      "4         3      0      0   8.0500           0         1  35.0\n",
      "..      ...    ...    ...      ...         ...       ...   ...\n",
      "886       2      0      0  13.0000           0         1  27.0\n",
      "887       1      0      0  30.0000           1         0  19.0\n",
      "888       3      1      2  23.4500           1         0  28.0\n",
      "889       1      0      0  30.0000           0         1  26.0\n",
      "890       3      0      0   7.7500           0         1  32.0\n",
      "\n",
      "[891 rows x 7 columns]\n",
      "     Pclass  SibSp  Parch      Fare  Sex_female  Sex_male   Age\n",
      "0         3      0      0    7.8292           0         1  34.5\n",
      "1         3      1      0    7.0000           1         0  47.0\n",
      "2         2      0      0    9.6875           0         1  62.0\n",
      "3         3      0      0    8.6625           0         1  27.0\n",
      "4         3      1      1   12.2875           1         0  22.0\n",
      "..      ...    ...    ...       ...         ...       ...   ...\n",
      "413       3      0      0    8.0500           0         1  27.0\n",
      "414       1      0      0  108.9000           1         0  39.0\n",
      "415       3      0      0    7.2500           0         1  38.5\n",
      "416       3      0      0    8.0500           0         1  27.0\n",
      "417       3      1      1   22.3583           0         1  27.0\n",
      "\n",
      "[418 rows x 7 columns]\n",
      "Your submission was successfully saved!\n"
     ]
    }
   ],
   "source": [
    "from sklearn.ensemble import RandomForestClassifier\n",
    "\n",
    "features = [\"Pclass\", \"Sex\", \"SibSp\", \"Parch\",\"Fare\"]\n",
    "X = pd.get_dummies(train_data[features])\n",
    "X_test = pd.get_dummies(test_data[features])\n",
    "print(X)\n",
    "X['Age'] = X_age\n",
    "X_test['Age'] = Xtest_age\n",
    "X_test['Fare'] = Xtest_fare\n",
    "print(X)\n",
    "print(X_test)\n",
    "\n",
    "\n",
    "\n",
    "model = RandomForestClassifier(n_estimators=100, max_depth=7, random_state=1)\n",
    "model.fit(X, y)\n",
    "predictions = model.predict(X_test)\n",
    "\n",
    "output = pd.DataFrame({'PassengerId': test_data.PassengerId, 'Survived': predictions})\n",
    "output.to_csv('submission.csv', index=False)\n",
    "print(\"Your submission was successfully saved!\")\n",
    "\n"
   ]
  }
 ],
 "metadata": {
  "kernelspec": {
   "display_name": "Python 3",
   "language": "python",
   "name": "python3"
  },
  "language_info": {
   "codemirror_mode": {
    "name": "ipython",
    "version": 3
   },
   "file_extension": ".py",
   "mimetype": "text/x-python",
   "name": "python",
   "nbconvert_exporter": "python",
   "pygments_lexer": "ipython3",
   "version": "3.7.12"
  },
  "papermill": {
   "default_parameters": {},
   "duration": 11.509188,
   "end_time": "2022-10-08T02:05:46.012906",
   "environment_variables": {},
   "exception": null,
   "input_path": "__notebook__.ipynb",
   "output_path": "__notebook__.ipynb",
   "parameters": {},
   "start_time": "2022-10-08T02:05:34.503718",
   "version": "2.3.4"
  }
 },
 "nbformat": 4,
 "nbformat_minor": 5
}
