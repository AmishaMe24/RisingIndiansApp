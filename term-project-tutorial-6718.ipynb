{
 "cells": [
  {
   "cell_type": "code",
   "execution_count": 1,
   "id": "89efed30",
   "metadata": {
    "_cell_guid": "b1076dfc-b9ad-4769-8c92-a6c4dae69d19",
    "_uuid": "8f2839f25d086af736a60e9eeb907d3b93b6e0e5",
    "execution": {
     "iopub.execute_input": "2022-10-08T02:02:53.103166Z",
     "iopub.status.busy": "2022-10-08T02:02:53.102580Z",
     "iopub.status.idle": "2022-10-08T02:02:53.117314Z",
     "shell.execute_reply": "2022-10-08T02:02:53.116005Z"
    },
    "papermill": {
     "duration": 0.025744,
     "end_time": "2022-10-08T02:02:53.120405",
     "exception": false,
     "start_time": "2022-10-08T02:02:53.094661",
     "status": "completed"
    },
    "tags": []
   },
   "outputs": [
    {
     "name": "stdout",
     "output_type": "stream",
     "text": [
      "/kaggle/input/titanic/train.csv\n",
      "/kaggle/input/titanic/test.csv\n",
      "/kaggle/input/titanic/gender_submission.csv\n"
     ]
    }
   ],
   "source": [
    "# This Python 3 environment comes with many helpful analytics libraries installed\n",
    "# It is defined by the kaggle/python Docker image: https://github.com/kaggle/docker-python\n",
    "# For example, here's several helpful packages to load\n",
    "\n",
    "import numpy as np # linear algebra\n",
    "import pandas as pd # data processing, CSV file I/O (e.g. pd.read_csv)\n",
    "\n",
    "# Input data files are available in the read-only \"../input/\" directory\n",
    "# For example, running this (by clicking run or pressing Shift+Enter) will list all files under the input directory\n",
    "\n",
    "import os\n",
    "for dirname, _, filenames in os.walk('/kaggle/input'):\n",
    "    for filename in filenames:\n",
    "        print(os.path.join(dirname, filename))\n",
    "\n",
    "# You can write up to 20GB to the current directory (/kaggle/working/) that gets preserved as output when you create a version using \"Save & Run All\" \n",
    "# You can also write temporary files to /kaggle/temp/, but they won't be saved outside of the current session"
   ]
  },
  {
   "cell_type": "code",
   "execution_count": null,
   "id": "3cc321a1",
   "metadata": {
    "jupyter": {
     "source_hidden": true
    },
    "papermill": {
     "duration": 0.003325,
     "end_time": "2022-10-08T02:02:53.128399",
     "exception": false,
     "start_time": "2022-10-08T02:02:53.125074",
     "status": "completed"
    },
    "tags": []
   },
   "outputs": [],
   "source": []
  },
  {
   "cell_type": "code",
   "execution_count": 2,
   "id": "87745197",
   "metadata": {
    "execution": {
     "iopub.execute_input": "2022-10-08T02:02:53.137358Z",
     "iopub.status.busy": "2022-10-08T02:02:53.136699Z",
     "iopub.status.idle": "2022-10-08T02:02:53.186224Z",
     "shell.execute_reply": "2022-10-08T02:02:53.185094Z"
    },
    "papermill": {
     "duration": 0.058735,
     "end_time": "2022-10-08T02:02:53.190613",
     "exception": false,
     "start_time": "2022-10-08T02:02:53.131878",
     "status": "completed"
    },
    "tags": []
   },
   "outputs": [
    {
     "data": {
      "text/html": [
       "<div>\n",
       "<style scoped>\n",
       "    .dataframe tbody tr th:only-of-type {\n",
       "        vertical-align: middle;\n",
       "    }\n",
       "\n",
       "    .dataframe tbody tr th {\n",
       "        vertical-align: top;\n",
       "    }\n",
       "\n",
       "    .dataframe thead th {\n",
       "        text-align: right;\n",
       "    }\n",
       "</style>\n",
       "<table border=\"1\" class=\"dataframe\">\n",
       "  <thead>\n",
       "    <tr style=\"text-align: right;\">\n",
       "      <th></th>\n",
       "      <th>PassengerId</th>\n",
       "      <th>Survived</th>\n",
       "      <th>Pclass</th>\n",
       "      <th>Name</th>\n",
       "      <th>Sex</th>\n",
       "      <th>Age</th>\n",
       "      <th>SibSp</th>\n",
       "      <th>Parch</th>\n",
       "      <th>Ticket</th>\n",
       "      <th>Fare</th>\n",
       "      <th>Cabin</th>\n",
       "      <th>Embarked</th>\n",
       "    </tr>\n",
       "  </thead>\n",
       "  <tbody>\n",
       "    <tr>\n",
       "      <th>0</th>\n",
       "      <td>1</td>\n",
       "      <td>0</td>\n",
       "      <td>3</td>\n",
       "      <td>Braund, Mr. Owen Harris</td>\n",
       "      <td>male</td>\n",
       "      <td>22.0</td>\n",
       "      <td>1</td>\n",
       "      <td>0</td>\n",
       "      <td>A/5 21171</td>\n",
       "      <td>7.2500</td>\n",
       "      <td>NaN</td>\n",
       "      <td>S</td>\n",
       "    </tr>\n",
       "    <tr>\n",
       "      <th>1</th>\n",
       "      <td>2</td>\n",
       "      <td>1</td>\n",
       "      <td>1</td>\n",
       "      <td>Cumings, Mrs. John Bradley (Florence Briggs Th...</td>\n",
       "      <td>female</td>\n",
       "      <td>38.0</td>\n",
       "      <td>1</td>\n",
       "      <td>0</td>\n",
       "      <td>PC 17599</td>\n",
       "      <td>71.2833</td>\n",
       "      <td>C85</td>\n",
       "      <td>C</td>\n",
       "    </tr>\n",
       "    <tr>\n",
       "      <th>2</th>\n",
       "      <td>3</td>\n",
       "      <td>1</td>\n",
       "      <td>3</td>\n",
       "      <td>Heikkinen, Miss. Laina</td>\n",
       "      <td>female</td>\n",
       "      <td>26.0</td>\n",
       "      <td>0</td>\n",
       "      <td>0</td>\n",
       "      <td>STON/O2. 3101282</td>\n",
       "      <td>7.9250</td>\n",
       "      <td>NaN</td>\n",
       "      <td>S</td>\n",
       "    </tr>\n",
       "    <tr>\n",
       "      <th>3</th>\n",
       "      <td>4</td>\n",
       "      <td>1</td>\n",
       "      <td>1</td>\n",
       "      <td>Futrelle, Mrs. Jacques Heath (Lily May Peel)</td>\n",
       "      <td>female</td>\n",
       "      <td>35.0</td>\n",
       "      <td>1</td>\n",
       "      <td>0</td>\n",
       "      <td>113803</td>\n",
       "      <td>53.1000</td>\n",
       "      <td>C123</td>\n",
       "      <td>S</td>\n",
       "    </tr>\n",
       "    <tr>\n",
       "      <th>4</th>\n",
       "      <td>5</td>\n",
       "      <td>0</td>\n",
       "      <td>3</td>\n",
       "      <td>Allen, Mr. William Henry</td>\n",
       "      <td>male</td>\n",
       "      <td>35.0</td>\n",
       "      <td>0</td>\n",
       "      <td>0</td>\n",
       "      <td>373450</td>\n",
       "      <td>8.0500</td>\n",
       "      <td>NaN</td>\n",
       "      <td>S</td>\n",
       "    </tr>\n",
       "  </tbody>\n",
       "</table>\n",
       "</div>"
      ],
      "text/plain": [
       "   PassengerId  Survived  Pclass  \\\n",
       "0            1         0       3   \n",
       "1            2         1       1   \n",
       "2            3         1       3   \n",
       "3            4         1       1   \n",
       "4            5         0       3   \n",
       "\n",
       "                                                Name     Sex   Age  SibSp  \\\n",
       "0                            Braund, Mr. Owen Harris    male  22.0      1   \n",
       "1  Cumings, Mrs. John Bradley (Florence Briggs Th...  female  38.0      1   \n",
       "2                             Heikkinen, Miss. Laina  female  26.0      0   \n",
       "3       Futrelle, Mrs. Jacques Heath (Lily May Peel)  female  35.0      1   \n",
       "4                           Allen, Mr. William Henry    male  35.0      0   \n",
       "\n",
       "   Parch            Ticket     Fare Cabin Embarked  \n",
       "0      0         A/5 21171   7.2500   NaN        S  \n",
       "1      0          PC 17599  71.2833   C85        C  \n",
       "2      0  STON/O2. 3101282   7.9250   NaN        S  \n",
       "3      0            113803  53.1000  C123        S  \n",
       "4      0            373450   8.0500   NaN        S  "
      ]
     },
     "execution_count": 2,
     "metadata": {},
     "output_type": "execute_result"
    }
   ],
   "source": [
    "train_data = pd.read_csv(\"/kaggle/input/titanic/train.csv\")\n",
    "train_data.head()"
   ]
  },
  {
   "cell_type": "code",
   "execution_count": 3,
   "id": "131c341e",
   "metadata": {
    "execution": {
     "iopub.execute_input": "2022-10-08T02:02:53.201936Z",
     "iopub.status.busy": "2022-10-08T02:02:53.200397Z",
     "iopub.status.idle": "2022-10-08T02:02:53.229220Z",
     "shell.execute_reply": "2022-10-08T02:02:53.227875Z"
    },
    "papermill": {
     "duration": 0.036706,
     "end_time": "2022-10-08T02:02:53.231792",
     "exception": false,
     "start_time": "2022-10-08T02:02:53.195086",
     "status": "completed"
    },
    "tags": []
   },
   "outputs": [
    {
     "data": {
      "text/html": [
       "<div>\n",
       "<style scoped>\n",
       "    .dataframe tbody tr th:only-of-type {\n",
       "        vertical-align: middle;\n",
       "    }\n",
       "\n",
       "    .dataframe tbody tr th {\n",
       "        vertical-align: top;\n",
       "    }\n",
       "\n",
       "    .dataframe thead th {\n",
       "        text-align: right;\n",
       "    }\n",
       "</style>\n",
       "<table border=\"1\" class=\"dataframe\">\n",
       "  <thead>\n",
       "    <tr style=\"text-align: right;\">\n",
       "      <th></th>\n",
       "      <th>PassengerId</th>\n",
       "      <th>Pclass</th>\n",
       "      <th>Name</th>\n",
       "      <th>Sex</th>\n",
       "      <th>Age</th>\n",
       "      <th>SibSp</th>\n",
       "      <th>Parch</th>\n",
       "      <th>Ticket</th>\n",
       "      <th>Fare</th>\n",
       "      <th>Cabin</th>\n",
       "      <th>Embarked</th>\n",
       "    </tr>\n",
       "  </thead>\n",
       "  <tbody>\n",
       "    <tr>\n",
       "      <th>0</th>\n",
       "      <td>892</td>\n",
       "      <td>3</td>\n",
       "      <td>Kelly, Mr. James</td>\n",
       "      <td>male</td>\n",
       "      <td>34.5</td>\n",
       "      <td>0</td>\n",
       "      <td>0</td>\n",
       "      <td>330911</td>\n",
       "      <td>7.8292</td>\n",
       "      <td>NaN</td>\n",
       "      <td>Q</td>\n",
       "    </tr>\n",
       "    <tr>\n",
       "      <th>1</th>\n",
       "      <td>893</td>\n",
       "      <td>3</td>\n",
       "      <td>Wilkes, Mrs. James (Ellen Needs)</td>\n",
       "      <td>female</td>\n",
       "      <td>47.0</td>\n",
       "      <td>1</td>\n",
       "      <td>0</td>\n",
       "      <td>363272</td>\n",
       "      <td>7.0000</td>\n",
       "      <td>NaN</td>\n",
       "      <td>S</td>\n",
       "    </tr>\n",
       "    <tr>\n",
       "      <th>2</th>\n",
       "      <td>894</td>\n",
       "      <td>2</td>\n",
       "      <td>Myles, Mr. Thomas Francis</td>\n",
       "      <td>male</td>\n",
       "      <td>62.0</td>\n",
       "      <td>0</td>\n",
       "      <td>0</td>\n",
       "      <td>240276</td>\n",
       "      <td>9.6875</td>\n",
       "      <td>NaN</td>\n",
       "      <td>Q</td>\n",
       "    </tr>\n",
       "    <tr>\n",
       "      <th>3</th>\n",
       "      <td>895</td>\n",
       "      <td>3</td>\n",
       "      <td>Wirz, Mr. Albert</td>\n",
       "      <td>male</td>\n",
       "      <td>27.0</td>\n",
       "      <td>0</td>\n",
       "      <td>0</td>\n",
       "      <td>315154</td>\n",
       "      <td>8.6625</td>\n",
       "      <td>NaN</td>\n",
       "      <td>S</td>\n",
       "    </tr>\n",
       "    <tr>\n",
       "      <th>4</th>\n",
       "      <td>896</td>\n",
       "      <td>3</td>\n",
       "      <td>Hirvonen, Mrs. Alexander (Helga E Lindqvist)</td>\n",
       "      <td>female</td>\n",
       "      <td>22.0</td>\n",
       "      <td>1</td>\n",
       "      <td>1</td>\n",
       "      <td>3101298</td>\n",
       "      <td>12.2875</td>\n",
       "      <td>NaN</td>\n",
       "      <td>S</td>\n",
       "    </tr>\n",
       "  </tbody>\n",
       "</table>\n",
       "</div>"
      ],
      "text/plain": [
       "   PassengerId  Pclass                                          Name     Sex  \\\n",
       "0          892       3                              Kelly, Mr. James    male   \n",
       "1          893       3              Wilkes, Mrs. James (Ellen Needs)  female   \n",
       "2          894       2                     Myles, Mr. Thomas Francis    male   \n",
       "3          895       3                              Wirz, Mr. Albert    male   \n",
       "4          896       3  Hirvonen, Mrs. Alexander (Helga E Lindqvist)  female   \n",
       "\n",
       "    Age  SibSp  Parch   Ticket     Fare Cabin Embarked  \n",
       "0  34.5      0      0   330911   7.8292   NaN        Q  \n",
       "1  47.0      1      0   363272   7.0000   NaN        S  \n",
       "2  62.0      0      0   240276   9.6875   NaN        Q  \n",
       "3  27.0      0      0   315154   8.6625   NaN        S  \n",
       "4  22.0      1      1  3101298  12.2875   NaN        S  "
      ]
     },
     "execution_count": 3,
     "metadata": {},
     "output_type": "execute_result"
    }
   ],
   "source": [
    "test_data = pd.read_csv(\"/kaggle/input/titanic/test.csv\")\n",
    "test_data.head()"
   ]
  },
  {
   "cell_type": "code",
   "execution_count": 4,
   "id": "1d038852",
   "metadata": {
    "execution": {
     "iopub.execute_input": "2022-10-08T02:02:53.242212Z",
     "iopub.status.busy": "2022-10-08T02:02:53.241484Z",
     "iopub.status.idle": "2022-10-08T02:02:53.255894Z",
     "shell.execute_reply": "2022-10-08T02:02:53.254442Z"
    },
    "papermill": {
     "duration": 0.023962,
     "end_time": "2022-10-08T02:02:53.259966",
     "exception": false,
     "start_time": "2022-10-08T02:02:53.236004",
     "status": "completed"
    },
    "tags": []
   },
   "outputs": [
    {
     "name": "stdout",
     "output_type": "stream",
     "text": [
      "% of women who survived: 0.7420382165605095\n"
     ]
    }
   ],
   "source": [
    "women = train_data.loc[train_data.Sex == 'female'][\"Survived\"]\n",
    "rate_women = sum(women)/len(women)\n",
    "\n",
    "print(\"% of women who survived:\", rate_women)"
   ]
  },
  {
   "cell_type": "code",
   "execution_count": 5,
   "id": "960beffc",
   "metadata": {
    "execution": {
     "iopub.execute_input": "2022-10-08T02:02:53.271008Z",
     "iopub.status.busy": "2022-10-08T02:02:53.269985Z",
     "iopub.status.idle": "2022-10-08T02:02:53.278258Z",
     "shell.execute_reply": "2022-10-08T02:02:53.276529Z"
    },
    "papermill": {
     "duration": 0.016818,
     "end_time": "2022-10-08T02:02:53.281124",
     "exception": false,
     "start_time": "2022-10-08T02:02:53.264306",
     "status": "completed"
    },
    "tags": []
   },
   "outputs": [
    {
     "name": "stdout",
     "output_type": "stream",
     "text": [
      "% of men who survived: 0.18890814558058924\n"
     ]
    }
   ],
   "source": [
    "men = train_data.loc[train_data.Sex == 'male'][\"Survived\"]\n",
    "rate_men = sum(men)/len(men)\n",
    "\n",
    "print(\"% of men who survived:\", rate_men)"
   ]
  },
  {
   "cell_type": "code",
   "execution_count": 6,
   "id": "9e327509",
   "metadata": {
    "execution": {
     "iopub.execute_input": "2022-10-08T02:02:53.295508Z",
     "iopub.status.busy": "2022-10-08T02:02:53.294204Z",
     "iopub.status.idle": "2022-10-08T02:02:54.805607Z",
     "shell.execute_reply": "2022-10-08T02:02:54.803504Z"
    },
    "papermill": {
     "duration": 1.521569,
     "end_time": "2022-10-08T02:02:54.809108",
     "exception": false,
     "start_time": "2022-10-08T02:02:53.287539",
     "status": "completed"
    },
    "tags": []
   },
   "outputs": [
    {
     "name": "stdout",
     "output_type": "stream",
     "text": [
      "Your submission was successfully saved!\n"
     ]
    }
   ],
   "source": [
    "from sklearn.ensemble import RandomForestClassifier\n",
    "\n",
    "y = train_data[\"Survived\"]\n",
    "\n",
    "features = [\"Pclass\", \"Sex\", \"SibSp\", \"Parch\"]\n",
    "X = pd.get_dummies(train_data[features])\n",
    "X_test = pd.get_dummies(test_data[features])\n",
    "\n",
    "model = RandomForestClassifier(n_estimators=100, max_depth=5, random_state=1)\n",
    "model.fit(X, y)\n",
    "predictions = model.predict(X_test)\n",
    "\n",
    "output = pd.DataFrame({'PassengerId': test_data.PassengerId, 'Survived': predictions})\n",
    "output.to_csv('submission.csv', index=False)\n",
    "print(\"Your submission was successfully saved!\")"
   ]
  },
  {
   "cell_type": "code",
   "execution_count": 7,
   "id": "e481bab9",
   "metadata": {
    "execution": {
     "iopub.execute_input": "2022-10-08T02:02:54.820196Z",
     "iopub.status.busy": "2022-10-08T02:02:54.819326Z",
     "iopub.status.idle": "2022-10-08T02:02:54.828114Z",
     "shell.execute_reply": "2022-10-08T02:02:54.827015Z"
    },
    "papermill": {
     "duration": 0.016715,
     "end_time": "2022-10-08T02:02:54.830542",
     "exception": false,
     "start_time": "2022-10-08T02:02:54.813827",
     "status": "completed"
    },
    "tags": []
   },
   "outputs": [],
   "source": [
    "X_age = train_data[\"Age\"]\n",
    "#print(X_age)\n",
    "mode_age = X_age.median()\n",
    "#print(mode_age[0])\n",
    "X_age = X_age.fillna(mode_age)\n"
   ]
  },
  {
   "cell_type": "code",
   "execution_count": 8,
   "id": "128dfa5e",
   "metadata": {
    "execution": {
     "iopub.execute_input": "2022-10-08T02:02:54.841089Z",
     "iopub.status.busy": "2022-10-08T02:02:54.840459Z",
     "iopub.status.idle": "2022-10-08T02:02:54.846744Z",
     "shell.execute_reply": "2022-10-08T02:02:54.845724Z"
    },
    "papermill": {
     "duration": 0.014297,
     "end_time": "2022-10-08T02:02:54.849178",
     "exception": false,
     "start_time": "2022-10-08T02:02:54.834881",
     "status": "completed"
    },
    "tags": []
   },
   "outputs": [],
   "source": [
    "Xtest_age = test_data[\"Age\"]\n",
    "#print(Xtest_age)\n",
    "mode_age = Xtest_age.median()\n",
    "#print(mode_age[0])\n",
    "Xtest_age = Xtest_age.fillna(mode_age)\n",
    "Xtest_fare = test_data[\"Fare\"]\n",
    "Xtest_fare = Xtest_fare.fillna(7.9250)"
   ]
  },
  {
   "cell_type": "code",
   "execution_count": 9,
   "id": "afd6cc7b",
   "metadata": {
    "execution": {
     "iopub.execute_input": "2022-10-08T02:02:54.859334Z",
     "iopub.status.busy": "2022-10-08T02:02:54.858930Z",
     "iopub.status.idle": "2022-10-08T02:02:54.893066Z",
     "shell.execute_reply": "2022-10-08T02:02:54.891426Z"
    },
    "papermill": {
     "duration": 0.042236,
     "end_time": "2022-10-08T02:02:54.895716",
     "exception": false,
     "start_time": "2022-10-08T02:02:54.853480",
     "status": "completed"
    },
    "tags": []
   },
   "outputs": [
    {
     "name": "stdout",
     "output_type": "stream",
     "text": [
      "     Pclass  SibSp  Parch     Fare  Sex_female  Sex_male\n",
      "0         3      1      0   7.2500           0         1\n",
      "1         1      1      0  71.2833           1         0\n",
      "2         3      0      0   7.9250           1         0\n",
      "3         1      1      0  53.1000           1         0\n",
      "4         3      0      0   8.0500           0         1\n",
      "..      ...    ...    ...      ...         ...       ...\n",
      "886       2      0      0  13.0000           0         1\n",
      "887       1      0      0  30.0000           1         0\n",
      "888       3      1      2  23.4500           1         0\n",
      "889       1      0      0  30.0000           0         1\n",
      "890       3      0      0   7.7500           0         1\n",
      "\n",
      "[891 rows x 6 columns]\n",
      "     Pclass  SibSp  Parch     Fare  Sex_female  Sex_male   Age\n",
      "0         3      1      0   7.2500           0         1  22.0\n",
      "1         1      1      0  71.2833           1         0  38.0\n",
      "2         3      0      0   7.9250           1         0  26.0\n",
      "3         1      1      0  53.1000           1         0  35.0\n",
      "4         3      0      0   8.0500           0         1  35.0\n",
      "..      ...    ...    ...      ...         ...       ...   ...\n",
      "886       2      0      0  13.0000           0         1  27.0\n",
      "887       1      0      0  30.0000           1         0  19.0\n",
      "888       3      1      2  23.4500           1         0  28.0\n",
      "889       1      0      0  30.0000           0         1  26.0\n",
      "890       3      0      0   7.7500           0         1  32.0\n",
      "\n",
      "[891 rows x 7 columns]\n",
      "     Pclass  SibSp  Parch      Fare  Sex_female  Sex_male   Age\n",
      "0         3      0      0    7.8292           0         1  34.5\n",
      "1         3      1      0    7.0000           1         0  47.0\n",
      "2         2      0      0    9.6875           0         1  62.0\n",
      "3         3      0      0    8.6625           0         1  27.0\n",
      "4         3      1      1   12.2875           1         0  22.0\n",
      "..      ...    ...    ...       ...         ...       ...   ...\n",
      "413       3      0      0    8.0500           0         1  27.0\n",
      "414       1      0      0  108.9000           1         0  39.0\n",
      "415       3      0      0    7.2500           0         1  38.5\n",
      "416       3      0      0    8.0500           0         1  27.0\n",
      "417       3      1      1   22.3583           0         1  27.0\n",
      "\n",
      "[418 rows x 7 columns]\n"
     ]
    }
   ],
   "source": [
    "features = [\"Pclass\", \"Sex\", \"SibSp\", \"Parch\",\"Fare\"]\n",
    "X = pd.get_dummies(train_data[features])\n",
    "X_test = pd.get_dummies(test_data[features])\n",
    "print(X)\n",
    "X['Age'] = X_age\n",
    "X_test['Age'] = Xtest_age\n",
    "X_test['Fare'] = Xtest_fare\n",
    "print(X)\n",
    "print(X_test)"
   ]
  },
  {
   "cell_type": "code",
   "execution_count": 10,
   "id": "75487867",
   "metadata": {
    "execution": {
     "iopub.execute_input": "2022-10-08T02:02:54.908377Z",
     "iopub.status.busy": "2022-10-08T02:02:54.907551Z",
     "iopub.status.idle": "2022-10-08T02:02:55.151022Z",
     "shell.execute_reply": "2022-10-08T02:02:55.149648Z"
    },
    "papermill": {
     "duration": 0.253575,
     "end_time": "2022-10-08T02:02:55.153821",
     "exception": false,
     "start_time": "2022-10-08T02:02:54.900246",
     "status": "completed"
    },
    "tags": []
   },
   "outputs": [
    {
     "name": "stdout",
     "output_type": "stream",
     "text": [
      "Your submission was successfully saved!\n"
     ]
    }
   ],
   "source": [
    "model2 = RandomForestClassifier(n_estimators=100, max_depth=7, random_state=1)\n",
    "model2.fit(X, y)\n",
    "predictions = model2.predict(X_test)\n",
    "\n",
    "output = pd.DataFrame({'PassengerId': test_data.PassengerId, 'Survived': predictions})\n",
    "output.to_csv('submission.csv', index=False)\n",
    "print(\"Your submission was successfully saved!\")"
   ]
  }
 ],
 "metadata": {
  "kernelspec": {
   "display_name": "Python 3",
   "language": "python",
   "name": "python3"
  },
  "language_info": {
   "codemirror_mode": {
    "name": "ipython",
    "version": 3
   },
   "file_extension": ".py",
   "mimetype": "text/x-python",
   "name": "python",
   "nbconvert_exporter": "python",
   "pygments_lexer": "ipython3",
   "version": "3.7.12"
  },
  "papermill": {
   "default_parameters": {},
   "duration": 11.807462,
   "end_time": "2022-10-08T02:02:55.880829",
   "environment_variables": {},
   "exception": null,
   "input_path": "__notebook__.ipynb",
   "output_path": "__notebook__.ipynb",
   "parameters": {},
   "start_time": "2022-10-08T02:02:44.073367",
   "version": "2.3.4"
  }
 },
 "nbformat": 4,
 "nbformat_minor": 5
}
